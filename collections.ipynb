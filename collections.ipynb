{
 "cells": [
  {
   "cell_type": "markdown",
   "id": "1a2ad1e2-fc12-4599-8964-fa11770ff34e",
   "metadata": {},
   "source": [
    "# The Collections Framework"
   ]
  },
  {
   "cell_type": "markdown",
   "id": "1589b51a-1e6e-42a9-8cc0-7325ec889d1d",
   "metadata": {},
   "source": [
    "> the Collections Framework is a set of interfaces that models different way of storing data in different types of containers. Then the Framework provides at least one implementation for each interface. [$^1$](#1)"
   ]
  },
  {
   "cell_type": "markdown",
   "id": "702e35b1-61cd-4cd5-8b6e-4a49c3956f5e",
   "metadata": {},
   "source": [
    "On the highest level, the Collections Framework can be divided between **collections** and **maps**."
   ]
  },
  {
   "cell_type": "markdown",
   "id": "d9b9f1fa-8ef7-4261-95e5-4acfdff20cc3",
   "metadata": {},
   "source": [
    "## Collections"
   ]
  },
  {
   "cell_type": "markdown",
   "id": "5f0bcc85-31a6-4c90-a4f0-e73b524ec506",
   "metadata": {},
   "source": [
    "> Collections are about storing objects and iterating over them. [$^2$](#2)"
   ]
  },
  {
   "cell_type": "markdown",
   "id": "a201fd11-67a5-4643-84e0-d21ad99dcc53",
   "metadata": {
    "jp-MarkdownHeadingCollapsed": true
   },
   "source": [
    "The `Collection` interface extends the `Iterable` interface, which is not part of the Collections Framework.\n",
    "\n",
    "The `Iterable` interface has the methods `forEach`, `iterator` and `spliterator`.\n",
    "\n",
    "The `iterator` method returns an `Iterator`object. This object provides `hasNext` and `next` methods, which allow for traversing a collection and checking if it is over."
   ]
  },
  {
   "cell_type": "markdown",
   "id": "f8d074c0-160b-412b-bda3-8256d7675f03",
   "metadata": {},
   "source": [
    "### Subinterfaces"
   ]
  },
  {
   "cell_type": "markdown",
   "id": "fc0e2423-1d9c-4b37-831b-d1a181da90d5",
   "metadata": {},
   "source": [
    "- `List`: Ordered collection that can contain duplicates. Any element from its index is accessable. Resembles a dynamically-sized array. Can be sorted, shuffled, reversed and searched.\n",
    "- `Set`: A collection of unique elements \n",
    "- `Queue`: Typically used for FIFO collections, but not restricted to them.\n",
    "- `Dequeue`: Stands for \"double-ended queue\", pronounced \"deck\". Linear collection supporting insertion and removal at both ends. Supports setting a fixed capacity.\n",
    "\n",
    "<details>\n",
    "<summary>Expand to show more subinterfaces</summary>\n",
    "\n",
    "- `SequencedCollection<E>`\n",
    "- `SequencedSet<E>`, `SortedSet<E>`, `NavigableSet<E>`, `EventSet`\n",
    "- `BlockingQueue<E>`, `BlockingDeque<E>`, `TransferQueue<E>`\n",
    "- `BeanContext`, `BeanContextServices`\n",
    "</details>"
   ]
  },
  {
   "cell_type": "markdown",
   "id": "d58cd972-50b0-4496-81f1-b20bf17803e1",
   "metadata": {},
   "source": [
    "### Methods"
   ]
  },
  {
   "cell_type": "markdown",
   "id": "49559851-eb25-47ed-a3a7-1341606ad225",
   "metadata": {},
   "source": [
    "For the listings below, the capital letter **C** refers to `Collection`.\n",
    "\n",
    "`Collections` interface methods:\n",
    "- `size`: Returns an `int` for the number of elements in C\n",
    "- `isEmpty`: Returns true if collection has no elements\n",
    "- `equals`: Compares the parameter object with C for equality\n",
    "- `contains`: Returns true if C contains the parameter element\n",
    "- `containsAll`: Returns true if C contains all the elements in the parameter C\n",
    "- `add`: Ensures that C contains the parameter element\n",
    "- `addAll`: Add all elements from the parameter C into C\n",
    "- `remove`: Remove a single instance of the specified element from C\n",
    "- `removeAll`: Removes from C all elements also found in the parameter C\n",
    "- `retainAll`: Removes from C all elements not found in the parameter C\n",
    "- `clear`: Removes all elements from C\n",
    "- `iterator`: Returns an interator over the elements of C\n",
    "- `toArray`: Returns an array containing the elements of C\n",
    "- `hashCode`: Returns the hash code for C\n",
    "\n",
    "All of these methods are static. Instance-only methods are few, such as `parallelStream`, `removeIf`, `spliterator`, and `stream`.\n",
    "\n",
    "Inherited from superinterface `Iterable`:\n",
    "- `forEach`: Perform a given action for each element of C"
   ]
  },
  {
   "cell_type": "markdown",
   "id": "b7d05297-f18f-4b49-861f-35dc22ff35a3",
   "metadata": {},
   "source": [
    "### Implementation classes"
   ]
  },
  {
   "cell_type": "markdown",
   "id": "771c43b3-182c-4e17-8cd0-5b91c55844dd",
   "metadata": {},
   "source": [
    "Many implementation classes exist for the `Collection` interface. None of them however are _direct_ implementations, only of the subinterfaces.\n",
    "\n",
    "- Subinterface `List`\n",
    "    - `ArrayList`\n",
    "    - `LinkedList`\n",
    "- Subinterface `Set`\n",
    "    - `HashSet`\n",
    "    - `TreeSet`\n",
    "    - `LinkedHashSet`\n",
    "\n",
    "<details>\n",
    "<summary>Expand to show more implementation classes</summary>\n",
    "\n",
    "- `AbstractCollection`, `AbstractList`, `AbstractQueue`,  `AbstractSet`, `AbstractSequentialList`\n",
    "- `ArrayDeque`, `ArrayBlockingQueue`,\n",
    "- `BeanContextServicesSupport`, `BeanContextSupport`\n",
    "- `ConcurrentHashMap.KeySetView`, `ConcurrentLinkedDeque`, `ConcurrentLinkedQueue`, `ConcurrentSkipListSet`\n",
    "- `CopyOnWriteArrayList`, `CopyOnWriteArraySet`\n",
    "- `LinkedBlockingDeque`, `LinkedBlockingQueue`, `LinkedTransferQueue`\n",
    "- `PriorityBlockingQueue`, `PriorityQueue` `DelayQueue` `SynchronousQueue`\n",
    "- `RoleList`, `RoleUnresolvedList` `AttributeList`\n",
    "- `JobStateReasons`\n",
    "- `EnumSet`\n",
    "- `Stack` (deprecated)\n",
    "- `Vector` (deprecated; uses `Enumeration` for its iterator, also deprecated)\n",
    "\n",
    "</details>"
   ]
  },
  {
   "cell_type": "markdown",
   "id": "40648548-bf6e-406d-b743-d56f97dc0897",
   "metadata": {},
   "source": [
    "#### Lists"
   ]
  },
  {
   "cell_type": "markdown",
   "id": "a8195dab-8c0a-4aa3-8658-bc451a73e303",
   "metadata": {},
   "source": [
    "Lists differ from sets not only in allowing duplicates, but by knowing the order in which elements are added. Each element has an index, and this index is used in many of the methods prescribed by the `List` interface.\n",
    "\n",
    "Because a list is an indexed collection, it has methods for adding one or more elements at a given position (`add`, `addAll`, `addFirst`, `addLast`). Conversely, the index also allows for methods like `get`, `indexOf` and `lastIndexOf`. The methods `getFirst` and `getLast` will also return the corresponding elements.\n",
    "\n",
    "To modify elements, `set` can be used by providing an index and the new element.\n",
    "\n",
    "For removal, a list provides a `remove` method that can take either an index or an object. `removeAll` can pass a collection for removal of the matching elements, while `removeFirst` and `removeLast` will remove the corresponding first and last elements.\n",
    "\n",
    "Because lists are ordered, a reversed view of the list can be obtained with `reversed`. They can also be reordered with `sort` and a comparator as [argument](https://docs.oracle.com/en/java/javase/21/docs/api/java.base/java/util/Comparator.html).\n",
    "\n",
    "Finally, a list can be sliced through `subList`, the arguments being the first, inclusive, and last, exclusive, indexes of the range."
   ]
  },
  {
   "cell_type": "markdown",
   "id": "9c921a59-e24b-4b63-a7e1-9364c1a6cefd",
   "metadata": {},
   "source": [
    "#### Sets"
   ]
  },
  {
   "cell_type": "markdown",
   "id": "aab52560-1c30-469e-8e31-a4be51f0435e",
   "metadata": {},
   "source": [
    "> More formally, sets contain no pair of elements `e1` and `e2` such that `e1.equals(e2)`, and at most one null element. [$^3$](#3)"
   ]
  },
  {
   "cell_type": "markdown",
   "id": "0a9613d6-012f-41ec-b11a-2ade318834ee",
   "metadata": {},
   "source": [
    "The docs contrast the concepts of **sorting** and **ordering**. _Ordering_ is explained in relation to the order in which the elements are added to the collection, whereas _sorting_ indicates there is some logic that dictates the ascending sequence of the elements.\n",
    "\n",
    "The `SortedSet` subinterface defines a collection that can be sorted in ascending order not simply through indexes, but by means of an implementation of the `Comparable` inteface's `compareTo` method, or by providing a `Comparator`.\n",
    "\n",
    "It has `addFirst` and `addLast` methods that throw `UnsupportedOperationException`. A `comparator` method returns the comparator that is used to sort the elements, or `null` if they are sorted by their [natural order[(https://docs.oracle.com/en/java/javase/21/docs/api/java.base/java/lang/Comparable.html).\n",
    "\n",
    "`first`, `getFirst`, `getLast` and `last` allow accessing the head and tail of the set. `removeFirst` and `removeLast` allow for removing these.\n",
    "\n",
    "The method `headSet` takes a single element as argument. The method will return a view of the set \"whose elements are strictly less than\" [$^4$](#4)\n",
    "the parameter element. Conversely, there is also a `tailSet` method, which returns the elements that are _greater than or equal to_ the parameter element..\n",
    "\n",
    "Another way to slice the set is using `subSet`, which takes two elements as arguments. Similarly to the `List` interface's `subList`, this method returns a view of the set ranging from the first element ,inclusive, to the second element, exclusive.\n",
    "\n",
    "`reversed` will return a reversed view of the set.\n",
    "\n",
    "The `NavigableSet` extends the `SortedSet` interface while also providing extra methods to find closest matches and navigate the set in descending order."
   ]
  },
  {
   "cell_type": "markdown",
   "id": "5249e55a-343e-4406-9702-f004a66fa0c0",
   "metadata": {
    "jp-MarkdownHeadingCollapsed": true
   },
   "source": [
    "## Maps"
   ]
  },
  {
   "cell_type": "markdown",
   "id": "fa5754a5-88ba-4050-96f6-d0401129674a",
   "metadata": {},
   "source": [
    "> A Map stores an object along with a key, which represents that object. [$^2$](#2)"
   ]
  },
  {
   "cell_type": "markdown",
   "id": "e22348b7-68b4-410d-af84-655afa86a858",
   "metadata": {},
   "source": [
    "The `Map` interface is the root interface for  maps. Its hierarchy has no direct relationship to the `Collection` hierarchy."
   ]
  },
  {
   "cell_type": "markdown",
   "id": "5a43e5c6-68e4-433d-b402-2f8e9f99185a",
   "metadata": {},
   "source": [
    "### Subinterfaces"
   ]
  },
  {
   "cell_type": "markdown",
   "id": "e7401b05-7553-4c4a-8d8a-a35dd076d6cf",
   "metadata": {},
   "source": [
    "- `Bindings`\n",
    "- `ConcurrentMap<K,V>`\n",
    "- `ConcurrentNavigableMap<K,V>`\n",
    "- `NavigableMap<K,V>`\n",
    "- `SequencedMap<K,V>`\n",
    "  `SortedMap<K,V>`\n",
    "\n",
    "This interface has a nested class:\n",
    "\n",
    "```java \n",
    "static interface Map.Entry<K,V>\n",
    "```"
   ]
  },
  {
   "cell_type": "markdown",
   "id": "6fd9c01c-eb38-40bd-a92d-2a0fe0b35a3c",
   "metadata": {},
   "source": [
    "### Implementation classes:"
   ]
  },
  {
   "cell_type": "markdown",
   "id": "ec5e92af-5f8b-448f-8f1e-d9c16adeee11",
   "metadata": {},
   "source": [
    "- `HashMap`\n",
    "- `TreeMap`\n",
    "- `LinkedHashMap`\n",
    "\n",
    "<details>\n",
    "<summary>Expand ot show more implementation classes</summary>\n",
    "\n",
    "- `WeakHashMap`, `IdentityHashMap`\n",
    "- `ConcurrentHashMap`, `ConcurrentSkipListMap`, \n",
    "- `AbstractMap`, \n",
    "- `Attributes`, \n",
    "- `AuthProvider`, \n",
    "- `EnumMap`, \n",
    "- `Headers`, \n",
    "- `PrinterStateReasons`, \n",
    "- `Properties`, \n",
    "- `Provider`, \n",
    "- `RenderingHints`, \n",
    "- `SimpleBindings`, \n",
    "- `TabularDataSupport`, \n",
    "- `UIDefaults`, \n",
    "- `Hashtable` (deprecated)\n",
    "</details>"
   ]
  },
  {
   "cell_type": "markdown",
   "id": "d24f8a88-f35b-40d6-aebd-a2b2664f5927",
   "metadata": {},
   "source": [
    "### Methods"
   ]
  },
  {
   "cell_type": "markdown",
   "id": "7a941f85-185e-417d-8cbb-c5f1f21395e2",
   "metadata": {},
   "source": [
    "- `clear`: remove all mappings\n",
    "- `compute`: attempts to compute a mapping for parameter key using the parameter function, potentially remapping its value\n",
    "- `computeIfAbsent`: same as `compute`, for unmapped keys only\n",
    "- `computeIfPresent`: same as `compute`, for mapped keys only\n",
    "- `containsKey`: returns true if a mapping is present and not null for the parameter key\n",
    "- `containsValue` : returns true if there are keys for the parameter value\n",
    "- `copyOf`: returns an ummodifiable copy the map\n",
    "- `entry`: returns an unmodifiable `Map.Entry` with the parameter key and value\n",
    "- `entrySet`: returns a `Set` for the mappings in the map\n",
    "- `equals`:  compares the parameter object with the map for equality\n",
    "- `forEach`: performs the parameter function for each map entry\n",
    "- `get`: returns the value for the parameter key, or null if key is not found\n",
    "- `getOrDefault`: returns the value for the parameter key, or the parameter object if not found\n",
    "- `hashCode`: returns the hash code for the map\n",
    "- `isEmpty`: returns true if the map contains no mappings\n",
    "- `keySet`: returns a `Set` of the keys in the map\n",
    "- `merge`: If the parameter key is not already mapped, map it for the parameter value\n",
    "- `of`: returns an umodifiable map containing the parameter mappings\n",
    "- `ofEntries` returns an unmodifiable map containing keys and values extracted from the parameter map\n",
    "- `put`: associate the parameter value with the parameter key\n",
    "- `putAll`: copy all mappings from the parameter map\n",
    "- `putIfAbsent`: if the parameter key is unmapped or mapped to null, map it with the parameter value and return `null`; if it is, return the current value\n",
    "- `remove`: remove the mapping for the parameter key; if a parameter value is passed, removeonly  if it is mapped to the parameter value\n",
    "- `replace`: replace the value for the parameter key with the parameter value; if a third value is supplied, replace with it if the second parameter value matches the current value\n",
    "- `replaceAll`: replace each mapped value with the result of the invoked parameter function\n",
    "- `size`: return an `int` for the total number of mappings\n",
    "- `values`: returns a `Collection` of the values in the map"
   ]
  },
  {
   "cell_type": "markdown",
   "id": "d88ed31b-3d21-4bc4-b900-2e3069ef2bf1",
   "metadata": {},
   "source": [
    "## References"
   ]
  },
  {
   "cell_type": "markdown",
   "id": "434dcace-d397-44e5-9dfe-bcfe55298670",
   "metadata": {},
   "source": [
    "<ul>\n",
    "    <li>https://docs.oracle.com/en/java/javase/21/docs/api/java.base/java/util/Collection.html</li>\n",
    "</ul>\n",
    "\n",
    "<ol>\n",
    "    <li id=\"1\">https://dev.java/learn/api/collections-framework/intri/#intro</li>\n",
    "    <li id=\"2\">https://dev.java/learn/api/collections-framework/intro/#presentation</li>\n",
    "    <li id=\"3\">https://docs.oracle.com/en/java/javase/21/docs/api/java.base/java/util/Set.html</li>\n",
    "    <li id=\"4\">https://docs.oracle.com/en/java/javase/21/docs/api/java.base/java/util/SortedSet.html#headSet(E)</li>\n",
    "</ol>"
   ]
  }
 ],
 "metadata": {
  "kernelspec": {
   "display_name": "Ganymede 2.1.2 (Java 17)",
   "language": "java",
   "name": "ganymede-2.1.2-java-17"
  },
  "language_info": {
   "file_extension": ".java",
   "mimetype": "text/x-java",
   "name": "java",
   "version": "11"
  }
 },
 "nbformat": 4,
 "nbformat_minor": 5
}
