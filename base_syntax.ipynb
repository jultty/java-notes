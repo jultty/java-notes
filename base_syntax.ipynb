{
 "cells": [
  {
   "cell_type": "markdown",
   "id": "8e3860e8-953e-4889-85a2-1fb03f32d84a",
   "metadata": {},
   "source": [
    "# Base syntax"
   ]
  },
  {
   "cell_type": "code",
   "execution_count": 34,
   "id": "83747b68-4af9-4b9f-bf84-665e89f6a4c8",
   "metadata": {},
   "outputs": [],
   "source": [
    "import static java.lang.System.out;"
   ]
  },
  {
   "cell_type": "markdown",
   "id": "24f41e51-4d46-4e2b-961c-2ce20b0b44fe",
   "metadata": {
    "jp-MarkdownHeadingCollapsed": true
   },
   "source": [
    "## Type system"
   ]
  },
  {
   "cell_type": "markdown",
   "id": "60299f3d-a57f-4009-a340-5de693a7e480",
   "metadata": {
    "jp-MarkdownHeadingCollapsed": true
   },
   "source": [
    "### Primitives\n",
    "\n",
    "Java has eight primitive types:"
   ]
  },
  {
   "cell_type": "code",
   "execution_count": 65,
   "id": "d3ceb78a-90dd-45a7-a250-3828b4aeff44",
   "metadata": {},
   "outputs": [
    {
     "name": "stdout",
     "output_type": "stream",
     "text": [
      "\u0000"
     ]
    }
   ],
   "source": [
    "// character\n",
    "char c = 'b';\n",
    "\n",
    "// defaults to \\u0000\n",
    "char uc;\n",
    "out.print(uc);"
   ]
  },
  {
   "cell_type": "code",
   "execution_count": 66,
   "id": "4d3be017-989f-4dac-a6f6-d89d812509ff",
   "metadata": {},
   "outputs": [
    {
     "name": "stdout",
     "output_type": "stream",
     "text": [
      "false"
     ]
    }
   ],
   "source": [
    "// boolean\n",
    "boolean b = true;\n",
    "\n",
    "// defaults to false\n",
    "boolean ub;\n",
    "out.print(ub);"
   ]
  },
  {
   "cell_type": "code",
   "execution_count": 67,
   "id": "6ed4f4f1-4199-4f1e-9455-4dd09c39168c",
   "metadata": {},
   "outputs": [
    {
     "name": "stdout",
     "output_type": "stream",
     "text": [
      "true"
     ]
    }
   ],
   "source": [
    "// integers\n",
    "int i = 3;\n",
    "byte b = 4;\n",
    "short s = 5;\n",
    "long l = 6;\n",
    "\n",
    "// default to 0\n",
    "int ui;\n",
    "byte ub;\n",
    "short us;\n",
    "long ul;\n",
    "out.print(ui + ub + us + ul == 0);"
   ]
  },
  {
   "cell_type": "code",
   "execution_count": 64,
   "id": "cf4db6dc-b3f6-4be3-aa9f-7480bf3eaac4",
   "metadata": {},
   "outputs": [
    {
     "name": "stdout",
     "output_type": "stream",
     "text": [
      "true"
     ]
    }
   ],
   "source": [
    "// fractionals\n",
    "float f = 7;\n",
    "double d = 8;\n",
    "\n",
    "// default to 0\n",
    "float uf;\n",
    "double ud;\n",
    "out.print(uf + ud == 0);"
   ]
  },
  {
   "cell_type": "code",
   "execution_count": 70,
   "id": "66d8e9a4-a4b5-49bd-bc85-4e307a08d6ba",
   "metadata": {},
   "outputs": [
    {
     "name": "stdout",
     "output_type": "stream",
     "text": [
      "true"
     ]
    }
   ],
   "source": [
    "// For numerical types, underscores can be used to improve readability:\n",
    "out.print(123456789 == 123_456_789)"
   ]
  },
  {
   "cell_type": "markdown",
   "id": "bcfd8b76-38dc-48f0-ad3c-edbbef9479fb",
   "metadata": {
    "jp-MarkdownHeadingCollapsed": true
   },
   "source": [
    "#### Primitive arguments"
   ]
  },
  {
   "cell_type": "markdown",
   "id": "553017a7-7ce6-4c88-9ab8-532cfc444c9e",
   "metadata": {},
   "source": [
    "When passed as arguments, primitives are passing their values only, meaning they can't be changed outside  of the scope they were passed in."
   ]
  },
  {
   "cell_type": "code",
   "execution_count": 98,
   "id": "e57c28dc-9a61-4dfa-83ce-a4634baec848",
   "metadata": {},
   "outputs": [
    {
     "name": "stdout",
     "output_type": "stream",
     "text": [
      "true"
     ]
    }
   ],
   "source": [
    "public class PrimitiveArgumentExample {\n",
    "    \n",
    "    \n",
    "    static void changesArgument(int arg) {\n",
    "        arg = 1;\n",
    "    }\n",
    "\n",
    "    public static void main() {\n",
    "        int x = 0;\n",
    "        changesArgument(x);\n",
    "        System.out.print(x == 0);\n",
    "    }\n",
    "    \n",
    "}\n",
    "\n",
    "PrimitiveArgumentExample.main();"
   ]
  },
  {
   "cell_type": "markdown",
   "id": "74738fc7-f2d9-4215-ad7c-4561b5a3bb01",
   "metadata": {
    "jp-MarkdownHeadingCollapsed": true
   },
   "source": [
    "### Reference types"
   ]
  },
  {
   "cell_type": "markdown",
   "id": "5be818d7-8450-47c9-8b9a-4e45429a4ef0",
   "metadata": {},
   "source": [
    "Unitialized reference types default to `null`:"
   ]
  },
  {
   "cell_type": "code",
   "execution_count": 71,
   "id": "e895c8ce-b9c9-484d-86b1-4105f38fa78a",
   "metadata": {},
   "outputs": [
    {
     "name": "stdout",
     "output_type": "stream",
     "text": [
      "null"
     ]
    }
   ],
   "source": [
    "String s;\n",
    "out.print(s);"
   ]
  },
  {
   "cell_type": "markdown",
   "id": "9ed46157-db9f-4f70-85c9-0f3dd766c3b4",
   "metadata": {
    "jp-MarkdownHeadingCollapsed": true
   },
   "source": [
    "#### Numbers"
   ]
  },
  {
   "cell_type": "markdown",
   "id": "1c70c7c0-eef1-44a6-8688-0315d05df496",
   "metadata": {},
   "source": [
    "Numeric value wrapper classes extend from the [`java.lang.Number`](https://docs.oracle.com/en/java/javase/21/docs/api/java.base/java/lang/Number.html) class. They provide methods such as `compareTo` and  `equals`."
   ]
  },
  {
   "cell_type": "markdown",
   "id": "2ef40bd4-162d-4b3d-b324-0aa7f94852f0",
   "metadata": {},
   "source": [
    "The snippet below demonstrates how `equals` can provide more reliable results than simply using `==`:"
   ]
  },
  {
   "cell_type": "code",
   "execution_count": 54,
   "id": "09a226f1-3ee4-440a-b005-41bb1d77dce9",
   "metadata": {},
   "outputs": [
    {
     "name": "stdout",
     "output_type": "stream",
     "text": [
      "true\n",
      "true\n",
      "false\n",
      "false\n"
     ]
    }
   ],
   "source": [
    "Integer two = 2;\n",
    "Double nearly_two = 2.0000000000000001;\n",
    "\n",
    "out.println(2 == 2.0000000000000001);\n",
    "out.println(two == 2.0000000000000001);\n",
    "\n",
    "out.println(two.equals(2.0000000000000001));\n",
    "out.println(two.equals(nearly_two));"
   ]
  },
  {
   "cell_type": "code",
   "execution_count": 63,
   "id": "d6cf18e9-4c17-4f91-aab1-ba092790df38",
   "metadata": {},
   "outputs": [
    {
     "name": "stdout",
     "output_type": "stream",
     "text": [
      "1\n",
      "-1\n"
     ]
    }
   ],
   "source": [
    "Integer k = 3;\n",
    "int i = 0;\n",
    "Integer j = 6;\n",
    "\n",
    "out.println( k.compareTo(i) );\n",
    "out.println( k.compareTo(j) );"
   ]
  },
  {
   "cell_type": "markdown",
   "id": "9370b32d-4516-46b9-8f65-f619b3a9a111",
   "metadata": {},
   "source": [
    "`compareTo` will return 0 for equality, 1 if `this` is greater than the argument and and -1 if it is lower."
   ]
  },
  {
   "cell_type": "markdown",
   "id": "c0e44621-6d9b-4971-995f-f4cb0685bebd",
   "metadata": {},
   "source": [
    "Numeric wrapper classes provide [several other](https://docs.oracle.com/en/java/javase/21/docs/api/java.base/java/lang/Number.html) methods, such as:\n",
    "- `parseInt(String s)` returns an `Integer` from a base 10 number\n",
    "- `decode(String s)` returns an `int` from a base 10, 2, 8 or 16 number\n",
    "- `toString()` returns a `String` representing the value of `this`\n",
    "- `toString(int i)` returns a `String` representing the value of `i`\n",
    "- `valueOf(int i)` returns an `Integer` with the argument's value\n",
    "- `valueOf(String s)` returns an `Integer` parsed from the argument\n",
    "- `valueOf(String s, int radix)` returns an `Integer` parsed from the argument using `radix` for the base "
   ]
  },
  {
   "cell_type": "markdown",
   "id": "81f836a4-d099-4175-acfa-d3b93dabe271",
   "metadata": {
    "jp-MarkdownHeadingCollapsed": true
   },
   "source": [
    "##### Number formatting"
   ]
  },
  {
   "cell_type": "markdown",
   "id": "7795d823-ad86-4934-8398-58512dc1f519",
   "metadata": {},
   "source": [
    "The `PrintStream` class — the class of the `System.out` object —, provides the equivalent `format` and `printf` methods.\n",
    "\n",
    "These methods can be used to present numbers and dates in several different ways:"
   ]
  },
  {
   "cell_type": "code",
   "execution_count": 14,
   "id": "d624fe51-148e-4730-a507-cba94f8ca8d3",
   "metadata": {},
   "outputs": [
    {
     "name": "stdout",
     "output_type": "stream",
     "text": [
      "A string ending with a newline.\n",
      "0123456789"
     ]
    }
   ],
   "source": [
    "out.format(\"A string ending with a newline.%n\");\n",
    "\n",
    "int i = 123456789;\n",
    "out.format(\"%010d\", i);"
   ]
  },
  {
   "cell_type": "markdown",
   "id": "8b0e4aea-04dc-4702-8a31-d571e373a8c0",
   "metadata": {},
   "source": [
    "The `%n` newline is preferable over `\\n` as it is platform-independent.\n",
    "\n",
    "In the second example above, `%d` is called the **converter** and `010` the **flag**.\n",
    "\n",
    "This combination, `%010d`, formats the number by placing leading zeros up to 10 decimal places up to the actual values.\n",
    "\n",
    "Because the number already contained 9 places, a single 0 is added to the beginning. Conversely:"
   ]
  },
  {
   "cell_type": "code",
   "execution_count": 16,
   "id": "aa6c2631-f17a-4e58-9b64-a81a4f655bc2",
   "metadata": {},
   "outputs": [
    {
     "name": "stdout",
     "output_type": "stream",
     "text": [
      "0000000890"
     ]
    }
   ],
   "source": [
    "int i = 890;\n",
    "out.format(\"%010d\", i);"
   ]
  },
  {
   "cell_type": "markdown",
   "id": "82ca9a88-ad4c-46ee-ab42-9d163bae9e8a",
   "metadata": {},
   "source": [
    "For a `float`, the `%f` converter is used instead of `%d`, which is meant for integer decimals."
   ]
  },
  {
   "cell_type": "markdown",
   "id": "901eda85-eeb9-423d-9836-a0c708ec3e7a",
   "metadata": {},
   "source": [
    "There are several other flags relevant to number formatting:"
   ]
  },
  {
   "cell_type": "markdown",
   "id": "ec37ddfe-bca2-4dee-bc63-136a89b8355d",
   "metadata": {},
   "source": [
    "| Flag   | Meaning                                                            |\n",
    "|--------|--------------------------------------------------------------------|\n",
    "| `+`    | Include a positive/negative sign                                   |\n",
    "| `,`    | Include locale-specific grouping for decimal places                |\n",
    "| `-`    | Justify left                                                       |\n",
    "| `.n`   | Print up to `n` places after the decimal point                     |\n",
    "| `10.3` | Ten chars width, right justified, 3 places after the decimal point |"
   ]
  },
  {
   "cell_type": "code",
   "execution_count": 44,
   "id": "c80ba70b-dea3-4a63-9948-255daaf5ef65",
   "metadata": {},
   "outputs": [
    {
     "name": "stdout",
     "output_type": "stream",
     "text": [
      "+3 \n",
      "123,456,789 \n",
      "808.123 \n",
      "808.12     \n",
      "    808.12"
     ]
    }
   ],
   "source": [
    "int i = 3;\n",
    "out.format(\"%+d %n\", i);\n",
    "\n",
    "int i = 123456789;\n",
    "out.format(\"%,d %n\", i);\n",
    "\n",
    "double i = 808.12345;\n",
    "out.format(\"%.3f %n\", i);\n",
    "out.format(\"%-10.2f %n\", i);\n",
    "out.format(\"%10.2f\", i);"
   ]
  },
  {
   "cell_type": "markdown",
   "id": "e45a47b7-1b3d-4768-b608-99c8f5035d15",
   "metadata": {},
   "source": [
    "See the docs for more on the [format string syntax]((https://docs.oracle.com/en/java/javase/21/docs/api/java.base/java/util/Formatter.html#syntax)."
   ]
  },
  {
   "cell_type": "markdown",
   "id": "63364f8f-1d8c-4e2c-9bf8-ffe5cc0690ea",
   "metadata": {
    "jp-MarkdownHeadingCollapsed": true
   },
   "source": [
    "##### DecimalFormat"
   ]
  },
  {
   "cell_type": "markdown",
   "id": "4d99c00c-73b0-4951-b115-aefedf38c6de",
   "metadata": {},
   "source": [
    "Another option is to use the `java.text.DecimalFormat` class."
   ]
  },
  {
   "cell_type": "code",
   "execution_count": 63,
   "id": "9d675326-54ca-4c1f-b0f6-7121f51245e5",
   "metadata": {},
   "outputs": [
    {
     "name": "stdout",
     "output_type": "stream",
     "text": [
      "R$ 123,456.789\n"
     ]
    }
   ],
   "source": [
    "import java.text.*;\n",
    "\n",
    "void format(double value) {\n",
    "    String pattern = \"R$ ###,###.###\";\n",
    "    DecimalFormat formatter = new DecimalFormat(pattern);\n",
    "    String output = formatter.format(value);\n",
    "    out.println(output);\n",
    "}\n",
    "\n",
    "format(123456.789);"
   ]
  },
  {
   "cell_type": "markdown",
   "id": "1d35a5d1-a4fd-4ef1-86ab-f9e00f559e9a",
   "metadata": {},
   "source": [
    "See the [`DecimalFormat` class docs](https://docs.oracle.com/en/java/javase/21/docs/api/java.base/java/text/DecimalFormat.html) for more."
   ]
  },
  {
   "cell_type": "markdown",
   "id": "6880aa28-1352-40d9-b2dd-64968a7b6d7f",
   "metadata": {
    "jp-MarkdownHeadingCollapsed": true
   },
   "source": [
    "##### The `Math` class"
   ]
  },
  {
   "cell_type": "code",
   "execution_count": 147,
   "id": "6220d193-6175-4f4f-bc5e-765f77e4d953",
   "metadata": {},
   "outputs": [],
   "source": [
    "// allows direct invocation of methods\n",
    "import static java.lang.Math.*;"
   ]
  },
  {
   "cell_type": "markdown",
   "id": "11b3ce60-7b31-4755-b81f-5f63df919863",
   "metadata": {},
   "source": [
    "The `Math` class includes two constants, `E` and `PI`, and over 40 static methods."
   ]
  },
  {
   "cell_type": "code",
   "execution_count": 68,
   "id": "e3a2166c-8e32-47d7-bffd-ba7f44bf55e9",
   "metadata": {},
   "outputs": [
    {
     "name": "stdout",
     "output_type": "stream",
     "text": [
      "2.3\n",
      "3.0\n",
      "2.0\n",
      "3\n",
      "8\n",
      "5.0\n",
      "6.0\n",
      "2.772588722239781\n",
      "15.999999999999998\n",
      "64.0\n",
      "8.0\n",
      "0.050286171295194526\n",
      "3\n",
      "15\n"
     ]
    }
   ],
   "source": [
    "out.println( abs(-2.3) );\n",
    "out.println( ceil(2.5) );\n",
    "out.println( floor(2.5) );\n",
    "out.println( min(3, 8) );\n",
    "out.println( max(8, 3) );\n",
    "out.println( rint(5.49) );\n",
    "out.println( rint(5.50) );\n",
    "out.println( log(16) );\n",
    "out.println( exp( log(16) ) );\n",
    "out.println( pow(8, 2) );\n",
    "out.println( sqrt(64) );\n",
    "out.println( random() );\n",
    "out.println( (int)(random() * 10) );\n",
    "out.println( (int)(random() * 100) );"
   ]
  },
  {
   "cell_type": "markdown",
   "id": "a059d831-e29f-41a9-8174-d104ca3e52cc",
   "metadata": {},
   "source": [
    "`Math` also provides trigonometric methods such as `sin`, `cos`, `tan`, `asin`, `acos`, `atan`, `atan2`. Conversion between degrees and radians can be done with `toRadians` and `toDegrees`.\n",
    "\n",
    "See the [`Math` class docs](https://docs.oracle.com/en/java/javase/21/docs/api/java.base/java/lang/Math.html) for all available methods."
   ]
  },
  {
   "cell_type": "markdown",
   "id": "6556863d-1cc6-4ff8-8e49-f593acf2891e",
   "metadata": {
    "jp-MarkdownHeadingCollapsed": true
   },
   "source": [
    "#### Characters"
   ]
  },
  {
   "cell_type": "markdown",
   "id": "75a142e2-ec66-4ad1-8c2d-2a08a0b69aeb",
   "metadata": {},
   "source": [
    "The `Character` class has a single `char` field and is immutable, meaning its  objects can't be modified after instantiation."
   ]
  },
  {
   "cell_type": "code",
   "execution_count": 72,
   "id": "ec2861e2-cc0b-4d1c-8cc7-b84c91f8896f",
   "metadata": {},
   "outputs": [],
   "source": [
    "Character ch = new Character('c');     // deprecated\n",
    "Character ch = Character.valueOf('c'); // preferred"
   ]
  },
  {
   "cell_type": "markdown",
   "id": "81bad59c-965b-4520-9b26-03753ebbe1f5",
   "metadata": {},
   "source": [
    "> The Java compiler will also create a [`Character`](https://docs.oracle.com/en/java/javase/21/docs/api/java.base/java/lang/Character.html) object for you under some circumstances. For example, if you pass a primitive `char` into a method that expects an object, the compiler automatically converts the `char` to a [`Character`](https://docs.oracle.com/en/java/javase/21/docs/api/java.base/java/lang/Character.html) for you. This feature is called _autoboxing_ — or _unboxing_, if the conversion goes the other way. [$^6$](#6)"
   ]
  },
  {
   "cell_type": "code",
   "execution_count": 84,
   "id": "e570781f-0d69-4477-8a91-401bb2e82187",
   "metadata": {},
   "outputs": [
    {
     "name": "stdout",
     "output_type": "stream",
     "text": [
      "true\n",
      "false\n",
      "true\n",
      "true\n"
     ]
    }
   ],
   "source": [
    "out.println( Character.isLetter('c') );\n",
    "out.println( Character.isLetter('6') );\n",
    "out.println( Character.isWhitespace(' ') );\n",
    "out.println( Character.isUpperCase( Character.toUpperCase('c') ) );"
   ]
  },
  {
   "cell_type": "markdown",
   "id": "8af4e552-52a4-4ca3-9ab9-bd9de5593269",
   "metadata": {
    "jp-MarkdownHeadingCollapsed": true
   },
   "source": [
    "#### Strings"
   ]
  },
  {
   "cell_type": "markdown",
   "id": "255ac06f-a90b-4910-99bb-26c470309243",
   "metadata": {},
   "source": [
    "> The [`String`](https://docs.oracle.com/en/java/javase/21/docs/api/java.base/java/lang/String.html) class is immutable, so that once it is created a [`String`](https://docs.oracle.com/en/java/javase/21/docs/api/java.base/java/lang/String.html) object cannot be changed. The [`String`](https://docs.oracle.com/en/java/javase/21/docs/api/java.base/java/lang/String.html) class has a number of methods, some of which will be discussed below, that appear to modify strings. Since strings are immutable, what these methods really do is create and return a new string that contains the result of the operation. [$^7$](#7)"
   ]
  },
  {
   "cell_type": "code",
   "execution_count": 87,
   "id": "4902c730-1e8f-4c8e-bf6c-73955d23d947",
   "metadata": {},
   "outputs": [
    {
     "name": "stdout",
     "output_type": "stream",
     "text": [
      "A String is always stored as an object. This one has 38 characters"
     ]
    }
   ],
   "source": [
    "String str = \"A String is always stored as an object\";\n",
    "int len = str.length();\n",
    "\n",
    "String str2 = str.concat(\". This one has \" + len + \" characters\"); \n",
    "\n",
    "out.print(str2);"
   ]
  },
  {
   "cell_type": "code",
   "execution_count": 99,
   "id": "866778a5-d2b2-4110-b0a5-8bb8a1f5a5a5",
   "metadata": {},
   "outputs": [
    {
     "name": "stdout",
     "output_type": "stream",
     "text": [
      "The indent for this multiline string\n",
      "will be ignored when it is rendered.\n",
      "    Except for this line, and the next,\n",
      "    since they are indented further.\n",
      "You can't write text in front of the first\n",
      "quotation marks for multiline strings to work.\n"
     ]
    }
   ],
   "source": [
    "String multiline = \"\"\"\n",
    "    The indent for this multiline string\n",
    "    will be ignored when it is rendered.\n",
    "        Except for this line, and the next,\n",
    "        since they are indented further.\n",
    "    You can't write text in front of the first\n",
    "    quotation marks for multiline strings to work.\n",
    "    \"\"\";\n",
    "\n",
    "out.print(multiline);"
   ]
  },
  {
   "cell_type": "markdown",
   "id": "0eb33bea-1d56-4f01-a454-d52b001b8c49",
   "metadata": {},
   "source": [
    "`String` also provides a `format(String s)` method that works similarly to the `System.out.format` method:"
   ]
  },
  {
   "cell_type": "code",
   "execution_count": 105,
   "id": "4fd91632-552f-407e-ae53-567a985a16cd",
   "metadata": {},
   "outputs": [
    {
     "name": "stdout",
     "output_type": "stream",
     "text": [
      "The float is 2.230000, the integer is 4, and the string is six.\n"
     ]
    }
   ],
   "source": [
    "String fs = String.format(\"The float \" +\n",
    "                   \"is %f, \" +\n",
    "                   \"the integer is %d,\" +\n",
    "                   \" and the string is %s.\",\n",
    "                   2.23, 4, \"six\");\n",
    "\n",
    "out.println(fs);"
   ]
  },
  {
   "cell_type": "markdown",
   "id": "f0b9fd30-169c-49cd-96f7-b5f832b87619",
   "metadata": {},
   "source": [
    "Type conversions are easy because fo autoboxing:"
   ]
  },
  {
   "cell_type": "code",
   "execution_count": 171,
   "id": "7af3445a-a53b-4a9b-b717-927ef862c217",
   "metadata": {},
   "outputs": [
    {
     "name": "stdout",
     "output_type": "stream",
     "text": [
      "67.2\n",
      "true"
     ]
    }
   ],
   "source": [
    "String s = \"67.2\";\n",
    "\n",
    "Float F = Float.valueOf(s); // returns an object\n",
    "float f = Float.parseFloat(s); // returns a primitive\n",
    "\n",
    "out.println( f );\n",
    "\n",
    "String s2 = String.valueOf( floor(f) ); // 67.0\n",
    "String s3 = s2.substring(0, s2.length() - 2); // 67\n",
    "Integer I = Integer.parseInt(s3);\n",
    "\n",
    "out.print(f == F && F > I);"
   ]
  },
  {
   "cell_type": "markdown",
   "id": "4350e70c-11fd-4d0f-a974-e19ee41c16d7",
   "metadata": {},
   "source": [
    "The example above also demonstrates how to obtain substrings by a starting and ending index number considering `String` objects as arrays of `chars`."
   ]
  },
  {
   "cell_type": "markdown",
   "id": "63e376b2-378f-4e38-bb4d-1264300cf362",
   "metadata": {},
   "source": [
    "There are many other ways of string manipulation through the methods the `String` class provides: "
   ]
  },
  {
   "cell_type": "code",
   "execution_count": 191,
   "id": "91e54e51-537a-4517-9e00-fdae5afda7a1",
   "metadata": {},
   "outputs": [
    {
     "name": "stdout",
     "output_type": "stream",
     "text": [
      "   a,b,c,d,e,f \n",
      "a\n",
      "b\n",
      "f\n",
      "A-B-C-D-E-F\n"
     ]
    }
   ],
   "source": [
    "String s = \"   a,b,c,d,e,f   \";\n",
    "out.println( s );\n",
    "\n",
    "String[] a = s.trim().split(\",\");\n",
    "out.println( a[0] );\n",
    "out.println( a[1] );\n",
    "out.println( a[5] );\n",
    "out.println( String.join(\"-\", a).toUpperCase() );"
   ]
  },
  {
   "cell_type": "code",
   "execution_count": 202,
   "id": "c2996051-7421-4fc8-b339-1d6b53de448c",
   "metadata": {},
   "outputs": [
    {
     "name": "stdout",
     "output_type": "stream",
     "text": [
      "21\n",
      "true\n",
      "false\n",
      "true\n"
     ]
    }
   ],
   "source": [
    "//          00        10        20\n",
    "//          0123456789 123456789 1\n",
    "String s = \"a sentence for us to search words within\";\n",
    "int i = s.indexOf(\"search\");\n",
    "\n",
    "out.println(i);\n",
    "\n",
    "out.println( s.contains(\"words\") );\n",
    "out.println( s.contains(\"numbers\") );\n",
    "out.println( s.replace(\"words\", \"numbers\").contains(\"numbers\") );"
   ]
  },
  {
   "cell_type": "code",
   "execution_count": 218,
   "id": "b4696b5a-cbab-46ce-8c38-21b4ee416ee4",
   "metadata": {},
   "outputs": [
    {
     "name": "stdout",
     "output_type": "stream",
     "text": [
      "true\n",
      "false\n",
      "true\n",
      "true\n",
      "false\n"
     ]
    }
   ],
   "source": [
    "String s = \"this string ends with the word giraffe\";\n",
    "out.println( s.endsWith(\"giraffe\") );\n",
    "out.println( s.startsWith(\"buffalo\") );\n",
    "\n",
    "String s2 = \"This String ends with the word Giraffe\";\n",
    "out.println( s2.equalsIgnoreCase(s) );\n",
    "\n",
    "out.println( s2.regionMatches(12, s, 12, 19) ); // at \"...word \"\n",
    "out.println( s2.regionMatches(12, s, 12, 20) ); // at \"...word G\""
   ]
  },
  {
   "cell_type": "markdown",
   "id": "0427056e-a689-4da8-af5e-4d8fb56dff12",
   "metadata": {},
   "source": [
    "Another way to manipulate strings is using [the `StringBuilder` class](https://dev.java/learn/numbers-strings/string-builders/). It has settable `length` and provides methods like `append`, `delete`, `insert`, `reverse`, `setCharAt`, among others."
   ]
  },
  {
   "cell_type": "markdown",
   "id": "896ede73-a168-4fb7-820a-4976ad9d037f",
   "metadata": {
    "jp-MarkdownHeadingCollapsed": true
   },
   "source": [
    "## Classes"
   ]
  },
  {
   "cell_type": "markdown",
   "id": "d0b96aeb-269e-43c0-8143-e897be7b3a9c",
   "metadata": {},
   "source": [
    "Classes can only extend one superclass, but can implement many interfaces."
   ]
  },
  {
   "cell_type": "code",
   "execution_count": 128,
   "id": "20db38ed-722c-437c-a608-37da5280e8ae",
   "metadata": {},
   "outputs": [],
   "source": [
    "class OuterClass {\n",
    "    class InnerClass extends SuperClass\n",
    "        implements FirstInterface, SecondInterface {\n",
    "            String first_field;\n",
    "\n",
    "            private void firstMethod(Integer first_parameter) {\n",
    "                Boolean local_variable = false;\n",
    "                System.out.println(\"Argument: \" + first_parameter);\n",
    "            }\n",
    "    }\n",
    "}"
   ]
  },
  {
   "cell_type": "markdown",
   "id": "e0997af9-1a91-4c40-9ddd-9e7ba9b45116",
   "metadata": {},
   "source": [
    "> Note: Parameters refers to the list of variables in a method declaration. Arguments are the actual values that are passed in when the method is invoked. [$^1$](#1)"
   ]
  },
  {
   "cell_type": "markdown",
   "id": "bb1058c0-66e9-4774-9691-2af278dfa953",
   "metadata": {
    "jp-MarkdownHeadingCollapsed": true
   },
   "source": [
    "### Access levels"
   ]
  },
  {
   "cell_type": "markdown",
   "id": "3b231b7e-a19d-4bbd-91a8-2a3f61bce76a",
   "metadata": {},
   "source": [
    "Class members can be declared as `public`, `private` or `protected`. They also default to being package-private.\n",
    "\n",
    "Protected means that a member can be accessed \"within its own package [and] by a subclass of its class in another package.\" [$^3$](#3)"
   ]
  },
  {
   "cell_type": "markdown",
   "id": "9509f061-543b-42fc-b9a9-c836d7dd2fc0",
   "metadata": {},
   "source": [
    "Classes default to being package-private. They can be declared as public, becoming visible to all classes.\n",
    "\n",
    "Nested classes can be private, public, protected or package-private. They can't define static members."
   ]
  },
  {
   "cell_type": "markdown",
   "id": "8a15fcca-4206-43f7-8e32-0d268d766579",
   "metadata": {},
   "source": [
    "To instantiate a nested class, it is necessary to instantiate its outer class first:\n",
    "\n",
    "```java\n",
    "OuterClass outerObject = new OuterClass();\n",
    "OuterClass.InnerClass innerObject = outerObject.new InnerClass();\n",
    "```"
   ]
  },
  {
   "cell_type": "markdown",
   "id": "edbbfdd2-1b36-46ac-91c8-ca85f7fc99e7",
   "metadata": {
    "jp-MarkdownHeadingCollapsed": true
   },
   "source": [
    "### Classes as return types"
   ]
  },
  {
   "cell_type": "markdown",
   "id": "145b1628-d9c1-4276-bde0-eb3b17d260c5",
   "metadata": {},
   "source": [
    "Subclasses can be returned where their superclass is expected:"
   ]
  },
  {
   "cell_type": "code",
   "execution_count": 110,
   "id": "7c6f28bb-86bc-4945-b7c7-04cb6b464804",
   "metadata": {},
   "outputs": [],
   "source": [
    "class SuperClass {}\n",
    "class SubClass extends SuperClass {}\n",
    "\n",
    "class Demo {\n",
    "    static SuperClass returnSuper(SubClass s) {\n",
    "        return s;\n",
    "    }\n",
    "}\n",
    "\n",
    "SubClass sub = new SubClass();\n",
    "SuperClass sc = demo.returnSuper(sub);"
   ]
  },
  {
   "cell_type": "markdown",
   "id": "baf14b03-cacd-4c3c-8fdb-46b329993d1a",
   "metadata": {},
   "source": [
    "> This technique, called covariant return type, means that the return type is allowed to vary in the same direction as the subclass.\n",
    "> You also can use interface names as return types. In this case, the object returned must implement the specified interface.\n",
    "[$^2$](#2)"
   ]
  },
  {
   "cell_type": "markdown",
   "id": "7a570438-b7f9-468a-9954-fe2cab1782ae",
   "metadata": {
    "jp-MarkdownHeadingCollapsed": true
   },
   "source": [
    "### Initialization blocks"
   ]
  },
  {
   "cell_type": "markdown",
   "id": "9f5e61a5-bd44-4eb6-b9b5-ee442b5ecbce",
   "metadata": {},
   "source": [
    "Initialization blocks can be used to define logic to be run on class loading or initialization:"
   ]
  },
  {
   "cell_type": "code",
   "execution_count": 124,
   "id": "11a4bb21-590f-47da-8af7-05f824adb45e",
   "metadata": {},
   "outputs": [
    {
     "name": "stdout",
     "output_type": "stream",
     "text": [
      "Static\n",
      "Main started\n",
      "Non-static\n",
      "Constructor\n",
      "Non-static\n",
      "Constructor\n",
      "Main over\n"
     ]
    }
   ],
   "source": [
    "public class Test {\n",
    "\n",
    "    { System.out.println(\"Non-static\"); }\n",
    "    static { System.out.println(\"Static\"); }\n",
    "    Test() { System.out.println(\"Constructor\"); }\n",
    "\n",
    "    public static void main() {\n",
    "        System.out.println(\"Main started\");\n",
    "        Test t = new Test();\n",
    "        Test t2 = new Test();\n",
    "        System.out.println(\"Main over\");\n",
    "    }\n",
    "}\n",
    "\n",
    "Test.main();"
   ]
  },
  {
   "cell_type": "markdown",
   "id": "9188c845-e6f0-42fa-a793-2aed475a6d02",
   "metadata": {},
   "source": [
    "The code above, based on [this StackOverflow example](https://stackoverflow.com/a/2420466),  shows the order of evaluation of each block.\n",
    "\n",
    "It prints \"Static\", followed by \"Main started\", \"Non-static\" then \"Constructor\", then the previous two are repeated for `t2`, then \"Main over\".\n",
    "\n",
    "\"Static\" is only printed once even across multiple class instantiations, whereas the non-static block is run for every instance.\n",
    "\n",
    "The `static` block is only run when the class is loaded into memory. Taking an example this Jupyter Notebook, if the cell is evaluated twice the output will not have the first \"Static\"  line of output."
   ]
  },
  {
   "cell_type": "markdown",
   "id": "8df804d0-30dc-4e61-86b8-0ed854785d59",
   "metadata": {},
   "source": [
    "This allows for defining code to be run before _all_ constructors, regardless of which is being used to initialize the class."
   ]
  },
  {
   "cell_type": "markdown",
   "id": "14229a83-4a2c-47e4-b13f-386c3774460a",
   "metadata": {
    "jp-MarkdownHeadingCollapsed": true
   },
   "source": [
    "### Local and anonymous classes"
   ]
  },
  {
   "cell_type": "markdown",
   "id": "19b75e06-5420-4044-8e12-46812cc40162",
   "metadata": {},
   "source": [
    "The docs also provide examples relating to [local](https://dev.java/learn/classes-objects/nested-classes/#local) and [anonymous](https://dev.java/learn/classes-objects/nested-classes/#anonymous"
   ]
  },
  {
   "cell_type": "markdown",
   "id": "39a547fb-765e-4789-b1ec-f7ccdcf33768",
   "metadata": {
    "jp-MarkdownHeadingCollapsed": true
   },
   "source": [
    "## Methods"
   ]
  },
  {
   "cell_type": "markdown",
   "id": "73e1ec8f-a32b-4c93-bb2d-123eb194d16d",
   "metadata": {
    "jp-MarkdownHeadingCollapsed": true
   },
   "source": [
    "### Varargs"
   ]
  },
  {
   "cell_type": "markdown",
   "id": "545bb276-eb32-4dac-86d9-5c3d721a129c",
   "metadata": {},
   "source": [
    "Varargs allow receiving an arbitrary number of parameters as an array.\n",
    "\n",
    "A method can have only one vararg and it must be the last parameter."
   ]
  },
  {
   "cell_type": "markdown",
   "id": "4df4a60d-bc00-4efe-b824-0602051315d6",
   "metadata": {},
   "source": [
    "```java\n",
    "public State(String name, String capitalCity, String... cities) {\n",
    "    this(name, capitalCity, List.of(cities));\n",
    "}\n",
    "```"
   ]
  },
  {
   "cell_type": "markdown",
   "id": "6146092d-6fa6-44b4-855b-3a134bd0d0e0",
   "metadata": {},
   "source": [
    "Here, `this` calls the matching constructor. For a child class referencing a parent constructor, this would be a `super` call. The `this` and `super` calls must always be the first statement in the constructor."
   ]
  },
  {
   "cell_type": "markdown",
   "id": "a70a9797-67a4-425b-b859-a5ca7b6452e1",
   "metadata": {
    "jp-MarkdownHeadingCollapsed": true
   },
   "source": [
    "## Enums"
   ]
  },
  {
   "cell_type": "markdown",
   "id": "4bd5770c-9795-4ce2-9c97-3d4b07381032",
   "metadata": {},
   "source": [
    "> Enums are classes where all instances are known to the compiler. [$^4$](#4)"
   ]
  },
  {
   "cell_type": "markdown",
   "id": "3bbf2783-b888-48ff-a4e1-84b7a4fb412a",
   "metadata": {},
   "source": [
    "The docs explain enums as useful in \"creating types that can only have few possible values.\""
   ]
  },
  {
   "cell_type": "code",
   "execution_count": 26,
   "id": "44ac8f08-314b-4691-b36d-2b9383946404",
   "metadata": {},
   "outputs": [],
   "source": [
    "public enum WeekDay {\n",
    "    MONDAY, TUESDAY, WEDNESDAY, THURSDAY, FRIDAY, SATURDAY, SUNDAY\n",
    "}\n",
    "\n",
    "WeekDay day = WeekDay.FRIDAY;"
   ]
  },
  {
   "cell_type": "markdown",
   "id": "d185e6c2-30a1-4f66-acf0-f3f7a28b59da",
   "metadata": {},
   "source": [
    "It can be used with logical operators to yield booleans:"
   ]
  },
  {
   "cell_type": "code",
   "execution_count": 27,
   "id": "31289e35-ff20-47b7-8816-d20783a96c27",
   "metadata": {},
   "outputs": [],
   "source": [
    "if (day == WeekDay.MONDAY) {}"
   ]
  },
  {
   "cell_type": "markdown",
   "id": "bf7602bd-120c-48cc-9bdb-c6a687e76c24",
   "metadata": {},
   "source": [
    "As switch cases:"
   ]
  },
  {
   "cell_type": "markdown",
   "id": "aabf289c-5efb-4624-9471-7a5e0196e155",
   "metadata": {},
   "source": [
    "```java\n",
    "switch (day) {\n",
    "    case MONDAY ->\n",
    "        System.out.println(\"The week just started.\");\n",
    "    case TUESDAY, WEDNESDAY, THURSDAY ->\n",
    "        System.out.println(\"We are somewhere in the middle of the week.\");\n",
    "    case FRIDAY ->\n",
    "        System.out.println(\"The weekend is near.\");\n",
    "    case SATURDAY, SUNDAY ->\n",
    "        System.out.println(\"Weekend\");\n",
    "    default ->\n",
    "        throw new AssertionError(\"Should not happen\");\n",
    "}\n",
    "```"
   ]
  },
  {
   "cell_type": "markdown",
   "id": "6c23a584-12ee-4787-a8a9-c3504f517a50",
   "metadata": {},
   "source": [
    "If the intention is to assign a given value based on a case, a `switch` expression can also be used:"
   ]
  },
  {
   "cell_type": "code",
   "execution_count": 28,
   "id": "67b4d786-746a-407c-8950-6b9feb06083d",
   "metadata": {},
   "outputs": [
    {
     "name": "stderr",
     "output_type": "stream",
     "text": [
      "REJECTED VAR\n",
      "\n",
      "\n",
      "String text = switch (day) {\n",
      "    // case MONDAY -> \"The week just started.\";\n",
      "    case TUESDAY, WEDNESDAY, THURSDAY -> \"Somewhere in the middle.\";\n",
      "    case FRIDAY -> \"The weekend is near.\";\n",
      "    case SATURDAY, SUNDAY -> \"Weekend\";\n",
      "};\n",
      "the switch expression does not cover all possible input values\n"
     ]
    }
   ],
   "source": [
    "DayOfWeek day = DayOfWeek.FRIDAY;\n",
    "\n",
    "String text = switch (day) {\n",
    "    // case MONDAY -> \"The week just started.\";\n",
    "    case TUESDAY, WEDNESDAY, THURSDAY -> \"Somewhere in the middle.\";\n",
    "    case FRIDAY -> \"The weekend is near.\";\n",
    "    case SATURDAY, SUNDAY -> \"Weekend\";\n",
    "};\n",
    "\n",
    "System.out.println(text);\n"
   ]
  },
  {
   "cell_type": "markdown",
   "id": "19459bdf-9169-4169-8933-5af870d558c3",
   "metadata": {},
   "source": [
    "As shown in the error message, one advantage of this approach is that the compiler can check for unhandled cases."
   ]
  },
  {
   "cell_type": "markdown",
   "id": "73c8d4ce-52eb-44d8-97c9-87580ca6142e",
   "metadata": {},
   "source": [
    "> This is referred to as Exhaustiveness and can also be achieved with regular classes through [Sealed Classes](https://openjdk.org/jeps/409).[$^5$](#5)"
   ]
  },
  {
   "cell_type": "markdown",
   "id": "cf41a757-a40c-4969-ab16-16a52b4d15f5",
   "metadata": {
    "jp-MarkdownHeadingCollapsed": true
   },
   "source": [
    "### Enum members"
   ]
  },
  {
   "cell_type": "markdown",
   "id": "52b2695f-0e70-49f4-81c1-9ccd1588b447",
   "metadata": {},
   "source": [
    "Enums can have constructors, methods and fields."
   ]
  },
  {
   "cell_type": "code",
   "execution_count": 12,
   "id": "94e1bd4f-e73f-49a3-8cd6-28206c8ab677",
   "metadata": {},
   "outputs": [],
   "source": [
    "enum WeekDay {\n",
    "    MONDAY(\"MON\"), TUESDAY(\"TUE\"), WEDNESDAY(\"WED\"), THURSDAY(\"THU\"),\n",
    "    FRIDAY(\"FRI\"), SATURDAY(\"SAT\"), SUNDAY(\"SUN\");\n",
    "    \n",
    "    private final String abbreviation;\n",
    "    \n",
    "    WeekDay(String abbreviation) {\n",
    "        this.abbreviation = abbreviation;\n",
    "    }\n",
    "    \n",
    "    public String getAbbreviation() {\n",
    "        return abbreviation;\n",
    "    }\n",
    "}"
   ]
  },
  {
   "cell_type": "markdown",
   "id": "e748dc80-3bca-40f8-b055-17306554d844",
   "metadata": {},
   "source": [
    "All enums implicitly have `name()`, `ordinal()`, `values()` and `valueOf(String)` methods. The first two return the constant name and the position of the constant. `values()` returns an array with all instances, and `valueOf(String)` gets a specific instance by name."
   ]
  },
  {
   "cell_type": "code",
   "execution_count": 32,
   "id": "370acdf2-acdd-4712-a465-c70876b92582",
   "metadata": {},
   "outputs": [
    {
     "name": "stdout",
     "output_type": "stream",
     "text": [
      "FRIDAY\n",
      "4\n",
      "[LREPL.$JShell$31$DayOfWeek;@1d408060\n",
      "FRIDAY\n"
     ]
    }
   ],
   "source": [
    "out.println(day.name());\n",
    "out.println(day.ordinal());\n",
    "out.println(day.values());\n",
    "out.println(day.valueOf(day.name()));"
   ]
  },
  {
   "cell_type": "markdown",
   "id": "e00092eb-916a-4cb1-bee3-967848759862",
   "metadata": {},
   "source": [
    "The docs also mention how enums [can be compared by means of their ordinal number](https://dev.java/learn/classes-objects/enums/#functionality) because they implement the [`Comparable`](https://docs.oracle.com/en/java/javase/21/docs/api/java.base/java/lang/Comparable.html) interface, as well as how to use them [for singletons](https://dev.java/learn/classes-objects/enums/#singletons) and with [abstract methods](https://dev.java/learn/classes-objects/enums/#abstract). Finally, it cautions on using enums for something that might change in the future, warning for possible compile and runtime errors."
   ]
  },
  {
   "cell_type": "markdown",
   "id": "845119a2-5769-49a6-8eca-0d895ce7a072",
   "metadata": {},
   "source": [
    "## Records"
   ]
  },
  {
   "cell_type": "markdown",
   "id": "28594869-af30-4ea6-a1c7-92f77884d759",
   "metadata": {},
   "source": [
    "Records can be used to create classes that have accessors, constructors, `toString` and `hashCode` methods autogenerated. These are meant for immutable structures and have several other [restrictions](https://dev.java/learn/records/#restrictions)."
   ]
  },
  {
   "cell_type": "markdown",
   "id": "2f7e6980-de20-4e68-8fbf-dbb40f64734e",
   "metadata": {},
   "source": [
    "If a parameter-less constructor is specified, it redefines the canonical constructor while still not requiring the fields to be manually assigned:"
   ]
  },
  {
   "cell_type": "code",
   "execution_count": 73,
   "id": "ff928c13-c696-41ad-9202-bb84f5a18b71",
   "metadata": {},
   "outputs": [],
   "source": [
    "public record Range(int start, int end) {\n",
    "\n",
    "    public Range {\n",
    "        if (end <= start) {\n",
    "            throw new IllegalArgumentException(\"End cannot be lesser than start\");\n",
    "        }\n",
    "    }\n",
    "}"
   ]
  },
  {
   "cell_type": "markdown",
   "id": "e03fb062-2d4d-4236-9fa5-ba9f7aa90194",
   "metadata": {},
   "source": [
    "A full-fledged constructor can still be defined, the benefit being on the generation of the remaining boilerplate methods:"
   ]
  },
  {
   "cell_type": "code",
   "execution_count": 122,
   "id": "286bc814-3f42-4693-b147-bfa692ae6893",
   "metadata": {},
   "outputs": [],
   "source": [
    "public record Range(int start, int end) {\n",
    "\n",
    "    public Range(int start, int end) {\n",
    "        if (end <= start) {\n",
    "            throw new IllegalArgumentException(\"End cannot be lesser than start\");\n",
    "        }\n",
    "        if (start < 0) {\n",
    "            this.start = 0;\n",
    "        } else {\n",
    "            this.start = start;\n",
    "        }\n",
    "        if (end > 100) {\n",
    "            this.end = 10;\n",
    "        } else {\n",
    "            this.end = end;\n",
    "        }\n",
    "    }\n",
    "}"
   ]
  },
  {
   "cell_type": "markdown",
   "id": "644443bb-bf8f-408f-b6e9-ce2b51c8d9f6",
   "metadata": {},
   "source": [
    "## Control flow"
   ]
  },
  {
   "cell_type": "markdown",
   "id": "57385d79-a10e-4b71-9b96-830d94b596dd",
   "metadata": {},
   "source": [
    "Java has an _enhanced `for`_ syntax to be used with collections and arrays:\n",
    "\n",
    "```java\n",
    "for (int item : numbers) {\n",
    "    System.out.println(\"Count is: \" + item);\n",
    "}\n",
    "```\n",
    "\n",
    "It also has `break`, `continue` and `return` statements."
   ]
  },
  {
   "cell_type": "markdown",
   "id": "d9851276-0328-4c81-b3b8-0eea8abd071e",
   "metadata": {},
   "source": [
    "A Java `switch` can have a single statement for multiple cases:"
   ]
  },
  {
   "cell_type": "code",
   "execution_count": 25,
   "id": "e9bb2141-3d3e-481d-a1e2-e4b7258f2ba9",
   "metadata": {},
   "outputs": [],
   "source": [
    "int month = 2;\n",
    "int year = 2021;\n",
    "int numDays = 0;\n",
    "\n",
    "switch (month) {\n",
    "    case 1: case 3: case 5:   // January March May\n",
    "    case 7: case 8: case 10:  // July August October\n",
    "    case 12:\n",
    "        numDays = 31;\n",
    "        break;\n",
    "    case 4: case 6:   // April June\n",
    "    case 9: case 11:  // September November\n",
    "        numDays = 30;\n",
    "        break;\n",
    "    case 2: // February\n",
    "        if (((year % 4 == 0) && \n",
    "             !(year % 100 == 0))\n",
    "             || (year % 400 == 0))\n",
    "            numDays = 29;\n",
    "        else\n",
    "            numDays = 28;\n",
    "        break;\n",
    "    default:\n",
    "        System.out.println(\"Invalid month.\");\n",
    "        break;\n",
    "}"
   ]
  },
  {
   "cell_type": "markdown",
   "id": "bc069026-b150-4598-ab4f-443165de0c01",
   "metadata": {},
   "source": [
    "A `switch` can't use `boolean`, `long`, `float` or `double` as its selector."
   ]
  },
  {
   "cell_type": "markdown",
   "id": "e541296f-25f2-4a5b-bb9a-69713f7a905e",
   "metadata": {},
   "source": [
    "As of Java SE 14, `switch` can also be used as an expression:"
   ]
  },
  {
   "cell_type": "code",
   "execution_count": 36,
   "id": "3e4f7ff6-eee0-4069-bb23-b0a1da2f1a98",
   "metadata": {},
   "outputs": [
    {
     "name": "stdout",
     "output_type": "stream",
     "text": [
      "6 is for saturday\n"
     ]
    }
   ],
   "source": [
    "int day_number = 6; // any day\n",
    "String weekday =\n",
    "    switch (day_number) {\n",
    "        case 1, 2, 3, 4, 5 -> \"some weekday\";\n",
    "        case 6             -> \"saturday\";\n",
    "        case 7             -> \"sunday\";\n",
    "        default            -> \"invalid weekday number\";\n",
    "    };\n",
    "\n",
    "out.println(day_number + \" is for \" + weekday);"
   ]
  },
  {
   "cell_type": "markdown",
   "id": "729403b9-0a5d-433e-85f5-371a3679eff6",
   "metadata": {},
   "source": [
    "In the next example, a `switch` expression is used as the body of a method."
   ]
  },
  {
   "cell_type": "code",
   "execution_count": 54,
   "id": "6b097193-f96a-4e6f-9d76-313c32ae2179",
   "metadata": {},
   "outputs": [
    {
     "name": "stdout",
     "output_type": "stream",
     "text": [
      "We are on spring"
     ]
    }
   ],
   "source": [
    "String getSeason(int quarter) {\n",
    "    return switch (quarter) {\n",
    "        case 1  -> \"fall\";\n",
    "        case 2  -> \"winter\";\n",
    "        case 3  -> \"spring\";\n",
    "        case 4  -> \"summer\";\n",
    "        default -> \"invalid quarter\";\n",
    "    };\n",
    "}\n",
    "\n",
    "out.print(\"We are on \" + getSeason(3));"
   ]
  },
  {
   "cell_type": "markdown",
   "id": "f637c7ef-86a8-4961-a58f-5a12f354ba39",
   "metadata": {
    "jp-MarkdownHeadingCollapsed": true
   },
   "source": [
    "## References"
   ]
  },
  {
   "cell_type": "markdown",
   "id": "ed82116c-3327-4ba2-b612-328b67bd3f98",
   "metadata": {},
   "source": [
    "<ol>\n",
    "    <li id=\"1\">https://dev.java/learn/classes-objects/calling-methods-constructors/</li>\n",
    "    <li id=\"2\">https://dev.java/learn/classes-objects/more-on-classes/#returning-a-reference</li>\n",
    "    <li id=\"3\">https://dev.java/learn/classes-objects/more-on-classes/#controlling-access</li>\n",
    "    <li id=\"4\">https://dev.java/learn/classes-objects/enums/#intro</li>\n",
    "    <li id=\"5\">https://dev.java/learn/classes-objects/enums/#accessing</li>\n",
    "    <li id=\"6\">https://dev.java/learn/numbers-strings/characters/#chars</li>\n",
    "    <li id=\"7\">https://dev.java/learn/numbers-strings/strings/#creating</li>\n",
    "</ol>"
   ]
  }
 ],
 "metadata": {
  "kernelspec": {
   "display_name": "Ganymede 2.1.2 (Java 17)",
   "language": "java",
   "name": "ganymede-2.1.2-java-17"
  },
  "language_info": {
   "file_extension": ".java",
   "mimetype": "text/x-java",
   "name": "java",
   "version": "11"
  }
 },
 "nbformat": 4,
 "nbformat_minor": 5
}
