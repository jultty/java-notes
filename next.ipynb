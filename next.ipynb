{
 "cells": [
  {
   "cell_type": "markdown",
   "id": "170f930e-a803-4616-ad39-88d75a454048",
   "metadata": {},
   "source": [
    "## Next"
   ]
  },
  {
   "cell_type": "markdown",
   "id": "dc6ebd91-cb71-4acb-87eb-9a7ad44cc00d",
   "metadata": {},
   "source": [
    "- [Inheritance](https://dev.java/learn/inheritance/)\n",
    "- [Generics](https://dev.java/learn/generics/)\n",
    "- [Annotations](https://dev.java/learn/annotations/)\n",
    "- [Interfaces](https://dev.java/learn/interfaces/)\n",
    "- [Lambdas](https://dev.java/learn/lambdas/)\n",
    "- [Packages](https://dev.java/learn/packages/)\n",
    "- [Pattern matching](https://dev.java/learn/pattern-matching/)\n",
    "- [DateTime](https://dev.java/learn/date-time/)"
   ]
  }
 ],
 "metadata": {
  "kernelspec": {
   "display_name": "Ganymede 2.1.2 (Java 17)",
   "language": "java",
   "name": "ganymede-2.1.2-java-17"
  },
  "language_info": {
   "file_extension": ".java",
   "mimetype": "text/x-java",
   "name": "java",
   "version": "11"
  }
 },
 "nbformat": 4,
 "nbformat_minor": 5
}
